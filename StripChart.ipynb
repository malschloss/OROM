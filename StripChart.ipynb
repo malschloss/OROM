{
 "cells": [
  {
   "cell_type": "code",
   "execution_count": 2,
   "id": "fe0e229a",
   "metadata": {},
   "outputs": [],
   "source": [
    "# Import libraries\n",
    "import sys\n",
    "from numpy import *\n",
    "from pyqtgraph.Qt import QtGui, QtCore\n",
    "from random import randrange, uniform\n",
    "from PyQt5 import QtTest\n",
    "from PyQt5.QtWidgets import QWidget, QVBoxLayout, QPushButton\n",
    "import pyqtgraph as pg"
   ]
  },
  {
   "cell_type": "code",
   "execution_count": 3,
   "id": "9195c969",
   "metadata": {},
   "outputs": [],
   "source": [
    "class StripChart(QWidget):\n",
    "    def __init__(self):\n",
    "        super().__init__()\n",
    "        layout=QVBoxLayout()\n",
    "        self.setLayout(layout)\n",
    "        self.plot=pg.plot()\n",
    "        self.plot.showGrid(x=True,y=True)\n",
    "        layout.addWidget(self.plot)\n",
    "        \n",
    "        self.runButton=QPushButton(\"Run\")\n",
    "        self.runButton.setCheckable(True)\n",
    "        self.runButton.setChecked(False)\n",
    "        self.runButton.clicked.connect(self.UpdateChart)\n",
    "        layout.addWidget(self.runButton)\n",
    "        \n",
    "        self.data_reader = None\n",
    "        self.plot_data = None\n",
    "        self.previous_plot_data = None\n",
    "\n",
    "        filenames = sorted([filename for filename in os.listdir(\"Data\") if filename.endswith(\".root\")])\n",
    "        self.data_reader = DataReader([os.path.join(\"Data\", filename) for filename in filenames], \"HIT\")\n",
    "        self.plot_data = self.data_reader.read_data()\n",
    "\n",
    "        \n",
    "    def UpdateChart(self):\n",
    "        self.dt=100\n",
    "        self.count=0\n",
    "        #self.tvals = np.zeros(2)\n",
    "        #self.yvals= np.zeros(2)\n",
    "        if self.runButton.isChecked(): self.plot.clear()\n",
    "        while self.runButton.isChecked():\n",
    "            self.t=self.dt*self.count/1000.0\n",
    "            self.tvals = np.arange(self.t,self.t+(self.dt/1000.0),self.dt/100000.0)\n",
    "            self.y= np.random.normal(50,7,100)\n",
    "            #self.yvals[self.count] = self.y\n",
    "            self.scatter=pg.ScatterPlotItem(size=15,brush=pg.mkBrush(30,255,35,255))\n",
    "            #if self.tvals[1] != 0:\n",
    "                #self.line=pg.PlotCurveItem(self.tvals,self.yvals,pen=pg.mkPen('#0fff00'),width=1)\n",
    "                #self.tvals = np.zeros(2)\n",
    "                #self.yvals = np.zeros(2)\n",
    "                #self.plot.addItem(self.line)\n",
    "            self.scatter.addPoints(self.tvals[:100],self.y)\n",
    "            self.plot.addItem(self.scatter)\n",
    "            layout=self.layout()\n",
    "            layout.replaceWidget(layout.itemAt(0).widget(), self.plot)\n",
    "            layout.addWidget(self.runButton)\n",
    "            QtTest.QTest.qWait(self.dt)\n",
    "            self.count += 1"
   ]
  },
  {
   "cell_type": "code",
   "execution_count": null,
   "id": "a8ae54f9",
   "metadata": {},
   "outputs": [],
   "source": []
  }
 ],
 "metadata": {
  "kernelspec": {
   "display_name": "Python 3 (ipykernel)",
   "language": "python",
   "name": "python3"
  },
  "language_info": {
   "codemirror_mode": {
    "name": "ipython",
    "version": 3
   },
   "file_extension": ".py",
   "mimetype": "text/x-python",
   "name": "python",
   "nbconvert_exporter": "python",
   "pygments_lexer": "ipython3",
   "version": "3.11.5"
  }
 },
 "nbformat": 4,
 "nbformat_minor": 5
}
